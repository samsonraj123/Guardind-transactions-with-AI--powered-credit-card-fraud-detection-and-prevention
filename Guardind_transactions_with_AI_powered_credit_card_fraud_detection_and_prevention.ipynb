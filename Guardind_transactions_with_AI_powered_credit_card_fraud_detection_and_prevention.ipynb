{
  "nbformat": 4,
  "nbformat_minor": 0,
  "metadata": {
    "colab": {
      "provenance": [],
      "authorship_tag": "ABX9TyO6MulJhu5qW/9cvNwfSX6X",
      "include_colab_link": true
    },
    "kernelspec": {
      "name": "python3",
      "display_name": "Python 3"
    },
    "language_info": {
      "name": "python"
    }
  },
  "cells": [
    {
      "cell_type": "markdown",
      "metadata": {
        "id": "view-in-github",
        "colab_type": "text"
      },
      "source": [
        "<a href=\"https://colab.research.google.com/github/samsonraj123/Guardind-transactions-with-AI--powered-credit-card-fraud-detection-and-prevention/blob/main/Guardind_transactions_with_AI_powered_credit_card_fraud_detection_and_prevention.ipynb\" target=\"_parent\"><img src=\"https://colab.research.google.com/assets/colab-badge.svg\" alt=\"Open In Colab\"/></a>"
      ]
    },
    {
      "cell_type": "code",
      "execution_count": 1,
      "metadata": {
        "colab": {
          "base_uri": "https://localhost:8080/"
        },
        "id": "2SKv7az8BSaw",
        "outputId": "b4842d64-b111-4d46-e8d7-6ded0dff405b"
      },
      "outputs": [
        {
          "output_type": "stream",
          "name": "stdout",
          "text": [
            "Dataset shape: (10000, 31)\n",
            "Class\n",
            "0    9900\n",
            "1     100\n",
            "Name: count, dtype: int64\n",
            "Accuracy Score: 0.8\n",
            "\n",
            "Confusion Matrix:\n",
            " [[25  3]\n",
            " [ 9 23]]\n",
            "\n",
            "Classification Report:\n",
            "               precision    recall  f1-score   support\n",
            "\n",
            "           0       0.74      0.89      0.81        28\n",
            "           1       0.88      0.72      0.79        32\n",
            "\n",
            "    accuracy                           0.80        60\n",
            "   macro avg       0.81      0.81      0.80        60\n",
            "weighted avg       0.81      0.80      0.80        60\n",
            "\n",
            "\n",
            "Prediction for sample transaction: Legit\n"
          ]
        },
        {
          "output_type": "stream",
          "name": "stderr",
          "text": [
            "/usr/local/lib/python3.11/dist-packages/sklearn/utils/validation.py:2739: UserWarning: X does not have valid feature names, but StandardScaler was fitted with feature names\n",
            "  warnings.warn(\n"
          ]
        }
      ],
      "source": [
        "import pandas as pd\n",
        "import numpy as np\n",
        "from sklearn.model_selection import train_test_split\n",
        "from sklearn.preprocessing import StandardScaler\n",
        "from sklearn.ensemble import RandomForestClassifier\n",
        "from sklearn.metrics import classification_report, confusion_matrix, accuracy_score\n",
        "\n",
        "# Step 1: Load dataset\n",
        "df = pd.read_csv('creditcard_synthetic.csv')\n",
        "\n",
        "# Step 2: Explore the dataset\n",
        "print(\"Dataset shape:\", df.shape)\n",
        "print(df['Class'].value_counts())  # 0 = legit, 1 = fraud\n",
        "\n",
        "# Step 3: Handle imbalance (optional: under-sampling for demonstration)\n",
        "fraud = df[df['Class'] == 1]\n",
        "legit = df[df['Class'] == 0].sample(n=len(fraud), random_state=42)\n",
        "balanced_df = pd.concat([fraud, legit]).sample(frac=1, random_state=42)\n",
        "\n",
        "# Step 4: Feature scaling\n",
        "X = balanced_df.drop(['Class', 'Time'], axis=1)\n",
        "y = balanced_df['Class']\n",
        "\n",
        "scaler = StandardScaler()\n",
        "X_scaled = scaler.fit_transform(X)\n",
        "\n",
        "# Step 5: Split into training and testing sets\n",
        "X_train, X_test, y_train, y_test = train_test_split(X_scaled, y, test_size=0.3, random_state=42)\n",
        "\n",
        "# Step 6: Train the model\n",
        "model = RandomForestClassifier(n_estimators=100, random_state=42)\n",
        "model.fit(X_train, y_train)\n",
        "\n",
        "# Step 7: Evaluate the model\n",
        "y_pred = model.predict(X_test)\n",
        "\n",
        "print(\"Accuracy Score:\", accuracy_score(y_test, y_pred))\n",
        "print(\"\\nConfusion Matrix:\\n\", confusion_matrix(y_test, y_pred))\n",
        "print(\"\\nClassification Report:\\n\", classification_report(y_test, y_pred))\n",
        "\n",
        "# Step 8: Predict a sample transaction\n",
        "def predict_transaction(input_data):\n",
        "    input_scaled = scaler.transform([input_data])\n",
        "    prediction = model.predict(input_scaled)\n",
        "    return \"Fraud\" if prediction[0] == 1 else \"Legit\"\n",
        "\n",
        "# Example prediction\n",
        "sample = X_test[0]\n",
        "result = predict_transaction(sample)\n",
        "print(\"\\nPrediction for sample transaction:\", result)"
      ]
    }
  ]
}